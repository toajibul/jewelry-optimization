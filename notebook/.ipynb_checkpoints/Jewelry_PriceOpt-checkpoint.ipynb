{
 "cells": [
  {
   "cell_type": "code",
   "execution_count": null,
   "id": "c3ceb6d3-b61d-43a3-ae6e-05b120092892",
   "metadata": {},
   "outputs": [],
   "source": [
    "import pandas as pd\n",
    "import numpy as np\n",
    "import matplotlib.pyplot as plt #data visualization\n",
    "import seaborn as sns #data visualization\n",
    "\n",
    "# Data Pre Processing\n",
    "from sklearn.model_selection import train_test_split\n",
    "from sklearn.preprocessing import MinMaxScaler"
   ]
  },
  {
   "cell_type": "code",
   "execution_count": null,
   "id": "cb20defc-e27d-4917-9c93-d3f9922461ba",
   "metadata": {},
   "outputs": [],
   "source": [
    "df=pd.read_csv(\"../data/Jewelry_Dataset.csv\", header=None)\n",
    "df.head()"
   ]
  },
  {
   "cell_type": "code",
   "execution_count": null,
   "id": "02885cb4-b5c4-477e-933f-1ba1f44e8b72",
   "metadata": {},
   "outputs": [],
   "source": [
    "pd.set_option('display.float_format', '{:.0f}'.format)"
   ]
  },
  {
   "cell_type": "code",
   "execution_count": null,
   "id": "64a53ba9-89ac-484c-b140-058c6667b8f4",
   "metadata": {},
   "outputs": [],
   "source": [
    "df.columns= ['Datetime','OrderID','Purchased_ID','Qty_of_SKU','Category_ID','Category_alias','Brand_ID',\n",
    "             'Price','UserID','Product_gender','Color','Metal','Gem_type']\n",
    "pd.set_option('display.float_format', '{:.0f}'.format)\n",
    "df.head()"
   ]
  },
  {
   "cell_type": "code",
   "execution_count": null,
   "id": "47964564-5054-477c-887e-3e23a5d0a876",
   "metadata": {},
   "outputs": [],
   "source": [
    "df.info()"
   ]
  },
  {
   "cell_type": "code",
   "execution_count": null,
   "id": "bba6a55d-0a96-47df-aa6b-120ded5a0893",
   "metadata": {},
   "outputs": [],
   "source": [
    "df['Datetime'] = pd.to_datetime(df['Datetime'])"
   ]
  },
  {
   "cell_type": "code",
   "execution_count": null,
   "id": "2c09b6d1-0317-4784-9085-67998d9d1ba2",
   "metadata": {},
   "outputs": [],
   "source": [
    "df.isna().sum()"
   ]
  },
  {
   "cell_type": "code",
   "execution_count": null,
   "id": "503a4395-99e3-4e49-89fe-921ab6a27c42",
   "metadata": {},
   "outputs": [],
   "source": [
    "df['Gem_type'].unique()"
   ]
  },
  {
   "cell_type": "code",
   "execution_count": null,
   "id": "315e2a85-54b5-441a-818d-195d060502ea",
   "metadata": {},
   "outputs": [],
   "source": [
    "df['Product_gender'].unique()"
   ]
  },
  {
   "cell_type": "code",
   "execution_count": null,
   "id": "1f632d2b-2528-49fc-8d39-3591e1032001",
   "metadata": {},
   "outputs": [],
   "source": [
    "df[(df['Color'] == 'red') & (df['Metal'] == 'gold')]"
   ]
  },
  {
   "cell_type": "code",
   "execution_count": null,
   "id": "d40e9dd0-0bda-4fab-8072-9bcfb2a93083",
   "metadata": {},
   "outputs": [],
   "source": [
    "df[df['Category_ID'] == 1806829201890738432]"
   ]
  },
  {
   "cell_type": "code",
   "execution_count": null,
   "id": "be378de6-6c7c-4128-8eab-43b1d53eda6d",
   "metadata": {},
   "outputs": [],
   "source": [
    "df = df[~df['Category_alias'].apply(lambda x: str(x).replace('.', '', 1).isdigit())]"
   ]
  },
  {
   "cell_type": "code",
   "execution_count": null,
   "id": "71b30940-ca71-4dde-87da-a1e9583e80cd",
   "metadata": {},
   "outputs": [],
   "source": [
    "df.info()"
   ]
  },
  {
   "cell_type": "code",
   "execution_count": null,
   "id": "057be0d9-c4b4-4c58-b6ff-62d9ce31d2aa",
   "metadata": {},
   "outputs": [],
   "source": [
    "df['Category_alias'].unique()"
   ]
  },
  {
   "cell_type": "code",
   "execution_count": null,
   "id": "b04aaf07-5ed5-4982-a48a-a807c413f3ad",
   "metadata": {},
   "outputs": [],
   "source": [
    "df.head()"
   ]
  },
  {
   "cell_type": "code",
   "execution_count": null,
   "id": "44bc2b89-cf43-4f6c-a531-3a0042b0445e",
   "metadata": {},
   "outputs": [],
   "source": [
    "df.loc[df['Category_alias'] == 'electronics.clocks', 'Brand_ID'] = 6"
   ]
  },
  {
   "cell_type": "code",
   "execution_count": null,
   "id": "5cb6df8a-5b88-4ee4-914c-803fed41c4c0",
   "metadata": {},
   "outputs": [],
   "source": [
    "df = df.dropna()\n",
    "df.head()"
   ]
  },
  {
   "cell_type": "code",
   "execution_count": null,
   "id": "103205f8-60c8-4893-ac12-6549aab22b34",
   "metadata": {},
   "outputs": [],
   "source": [
    "df.info()"
   ]
  }
 ],
 "metadata": {
  "kernelspec": {
   "display_name": "Python 3 (ipykernel)",
   "language": "python",
   "name": "python3"
  },
  "language_info": {
   "codemirror_mode": {
    "name": "ipython",
    "version": 3
   },
   "file_extension": ".py",
   "mimetype": "text/x-python",
   "name": "python",
   "nbconvert_exporter": "python",
   "pygments_lexer": "ipython3",
   "version": "3.12.4"
  }
 },
 "nbformat": 4,
 "nbformat_minor": 5
}
