{
 "cells": [
  {
   "cell_type": "code",
   "execution_count": 97,
   "id": "c3ceb6d3-b61d-43a3-ae6e-05b120092892",
   "metadata": {},
   "outputs": [],
   "source": [
    "import pandas as pd\n",
    "import numpy as np\n",
    "import matplotlib.pyplot as plt #data visualization\n",
    "import seaborn as sns #data visualization\n",
    "\n",
    "# Data Pre Processing\n",
    "from sklearn.model_selection import train_test_split\n",
    "from sklearn.preprocessing import MinMaxScaler"
   ]
  },
  {
   "cell_type": "code",
   "execution_count": 99,
   "id": "cb20defc-e27d-4917-9c93-d3f9922461ba",
   "metadata": {},
   "outputs": [
    {
     "data": {
      "text/html": [
       "<div>\n",
       "<style scoped>\n",
       "    .dataframe tbody tr th:only-of-type {\n",
       "        vertical-align: middle;\n",
       "    }\n",
       "\n",
       "    .dataframe tbody tr th {\n",
       "        vertical-align: top;\n",
       "    }\n",
       "\n",
       "    .dataframe thead th {\n",
       "        text-align: right;\n",
       "    }\n",
       "</style>\n",
       "<table border=\"1\" class=\"dataframe\">\n",
       "  <thead>\n",
       "    <tr style=\"text-align: right;\">\n",
       "      <th></th>\n",
       "      <th>0</th>\n",
       "      <th>1</th>\n",
       "      <th>2</th>\n",
       "      <th>3</th>\n",
       "      <th>4</th>\n",
       "      <th>5</th>\n",
       "      <th>6</th>\n",
       "      <th>7</th>\n",
       "      <th>8</th>\n",
       "      <th>9</th>\n",
       "      <th>10</th>\n",
       "      <th>11</th>\n",
       "      <th>12</th>\n",
       "    </tr>\n",
       "  </thead>\n",
       "  <tbody>\n",
       "    <tr>\n",
       "      <th>0</th>\n",
       "      <td>2018-12-01 11:40:29 UTC</td>\n",
       "      <td>1924719191579951782</td>\n",
       "      <td>1842195256808833386</td>\n",
       "      <td>1</td>\n",
       "      <td>1806829201890738432</td>\n",
       "      <td>jewelry.earring</td>\n",
       "      <td>0</td>\n",
       "      <td>562</td>\n",
       "      <td>1515915625207851264</td>\n",
       "      <td>NaN</td>\n",
       "      <td>red</td>\n",
       "      <td>gold</td>\n",
       "      <td>diamond</td>\n",
       "    </tr>\n",
       "    <tr>\n",
       "      <th>1</th>\n",
       "      <td>2018-12-01 17:38:31 UTC</td>\n",
       "      <td>1924899396621697920</td>\n",
       "      <td>1806829193678291446</td>\n",
       "      <td>1</td>\n",
       "      <td>1806829201848795392</td>\n",
       "      <td>NaN</td>\n",
       "      <td>NaN</td>\n",
       "      <td>212</td>\n",
       "      <td>1515915625071970048</td>\n",
       "      <td>NaN</td>\n",
       "      <td>yellow</td>\n",
       "      <td>gold</td>\n",
       "      <td>NaN</td>\n",
       "    </tr>\n",
       "    <tr>\n",
       "      <th>2</th>\n",
       "      <td>2018-12-02 13:53:42 UTC</td>\n",
       "      <td>1925511016616034733</td>\n",
       "      <td>1842214461889315556</td>\n",
       "      <td>1</td>\n",
       "      <td>1806829201915904256</td>\n",
       "      <td>jewelry.pendant</td>\n",
       "      <td>1</td>\n",
       "      <td>55</td>\n",
       "      <td>1515915625048493568</td>\n",
       "      <td>f</td>\n",
       "      <td>white</td>\n",
       "      <td>gold</td>\n",
       "      <td>sapphire</td>\n",
       "    </tr>\n",
       "    <tr>\n",
       "      <th>3</th>\n",
       "      <td>2018-12-02 17:44:02 UTC</td>\n",
       "      <td>1925626951238681511</td>\n",
       "      <td>1835566849434059453</td>\n",
       "      <td>1</td>\n",
       "      <td>1806829201915904256</td>\n",
       "      <td>jewelry.pendant</td>\n",
       "      <td>0</td>\n",
       "      <td>89</td>\n",
       "      <td>1515915625207630848</td>\n",
       "      <td>f</td>\n",
       "      <td>red</td>\n",
       "      <td>gold</td>\n",
       "      <td>diamond</td>\n",
       "    </tr>\n",
       "    <tr>\n",
       "      <th>4</th>\n",
       "      <td>2018-12-02 21:30:19 UTC</td>\n",
       "      <td>1925740842841014667</td>\n",
       "      <td>1873936840742928865</td>\n",
       "      <td>1</td>\n",
       "      <td>1806829201924292864</td>\n",
       "      <td>jewelry.necklace</td>\n",
       "      <td>0</td>\n",
       "      <td>418</td>\n",
       "      <td>1515915625175329280</td>\n",
       "      <td>NaN</td>\n",
       "      <td>red</td>\n",
       "      <td>gold</td>\n",
       "      <td>amethyst</td>\n",
       "    </tr>\n",
       "  </tbody>\n",
       "</table>\n",
       "</div>"
      ],
      "text/plain": [
       "                        0                    1                    2   3   \\\n",
       "0  2018-12-01 11:40:29 UTC  1924719191579951782  1842195256808833386   1   \n",
       "1  2018-12-01 17:38:31 UTC  1924899396621697920  1806829193678291446   1   \n",
       "2  2018-12-02 13:53:42 UTC  1925511016616034733  1842214461889315556   1   \n",
       "3  2018-12-02 17:44:02 UTC  1925626951238681511  1835566849434059453   1   \n",
       "4  2018-12-02 21:30:19 UTC  1925740842841014667  1873936840742928865   1   \n",
       "\n",
       "                   4                 5   6   7                   8    9   \\\n",
       "0 1806829201890738432   jewelry.earring   0 562 1515915625207851264  NaN   \n",
       "1 1806829201848795392               NaN NaN 212 1515915625071970048  NaN   \n",
       "2 1806829201915904256   jewelry.pendant   1  55 1515915625048493568    f   \n",
       "3 1806829201915904256   jewelry.pendant   0  89 1515915625207630848    f   \n",
       "4 1806829201924292864  jewelry.necklace   0 418 1515915625175329280  NaN   \n",
       "\n",
       "       10    11        12  \n",
       "0     red  gold   diamond  \n",
       "1  yellow  gold       NaN  \n",
       "2   white  gold  sapphire  \n",
       "3     red  gold   diamond  \n",
       "4     red  gold  amethyst  "
      ]
     },
     "execution_count": 99,
     "metadata": {},
     "output_type": "execute_result"
    }
   ],
   "source": [
    "df=pd.read_csv(\"../data/Jewelry_Dataset.csv\", header=None)\n",
    "df.head()"
   ]
  },
  {
   "cell_type": "code",
   "execution_count": 101,
   "id": "02885cb4-b5c4-477e-933f-1ba1f44e8b72",
   "metadata": {},
   "outputs": [],
   "source": [
    "pd.set_option('display.float_format', '{:.0f}'.format)"
   ]
  },
  {
   "cell_type": "code",
   "execution_count": 103,
   "id": "64a53ba9-89ac-484c-b140-058c6667b8f4",
   "metadata": {},
   "outputs": [
    {
     "data": {
      "text/html": [
       "<div>\n",
       "<style scoped>\n",
       "    .dataframe tbody tr th:only-of-type {\n",
       "        vertical-align: middle;\n",
       "    }\n",
       "\n",
       "    .dataframe tbody tr th {\n",
       "        vertical-align: top;\n",
       "    }\n",
       "\n",
       "    .dataframe thead th {\n",
       "        text-align: right;\n",
       "    }\n",
       "</style>\n",
       "<table border=\"1\" class=\"dataframe\">\n",
       "  <thead>\n",
       "    <tr style=\"text-align: right;\">\n",
       "      <th></th>\n",
       "      <th>Datetime</th>\n",
       "      <th>OrderID</th>\n",
       "      <th>Purchased_ID</th>\n",
       "      <th>Qty_of_SKU</th>\n",
       "      <th>Category_ID</th>\n",
       "      <th>Category_alias</th>\n",
       "      <th>Brand_ID</th>\n",
       "      <th>Price</th>\n",
       "      <th>UserID</th>\n",
       "      <th>Product_gender</th>\n",
       "      <th>Color</th>\n",
       "      <th>Metal</th>\n",
       "      <th>Gem_type</th>\n",
       "    </tr>\n",
       "  </thead>\n",
       "  <tbody>\n",
       "    <tr>\n",
       "      <th>0</th>\n",
       "      <td>2018-12-01 11:40:29 UTC</td>\n",
       "      <td>1924719191579951782</td>\n",
       "      <td>1842195256808833386</td>\n",
       "      <td>1</td>\n",
       "      <td>1806829201890738432</td>\n",
       "      <td>jewelry.earring</td>\n",
       "      <td>0</td>\n",
       "      <td>562</td>\n",
       "      <td>1515915625207851264</td>\n",
       "      <td>NaN</td>\n",
       "      <td>red</td>\n",
       "      <td>gold</td>\n",
       "      <td>diamond</td>\n",
       "    </tr>\n",
       "    <tr>\n",
       "      <th>1</th>\n",
       "      <td>2018-12-01 17:38:31 UTC</td>\n",
       "      <td>1924899396621697920</td>\n",
       "      <td>1806829193678291446</td>\n",
       "      <td>1</td>\n",
       "      <td>1806829201848795392</td>\n",
       "      <td>NaN</td>\n",
       "      <td>NaN</td>\n",
       "      <td>212</td>\n",
       "      <td>1515915625071970048</td>\n",
       "      <td>NaN</td>\n",
       "      <td>yellow</td>\n",
       "      <td>gold</td>\n",
       "      <td>NaN</td>\n",
       "    </tr>\n",
       "    <tr>\n",
       "      <th>2</th>\n",
       "      <td>2018-12-02 13:53:42 UTC</td>\n",
       "      <td>1925511016616034733</td>\n",
       "      <td>1842214461889315556</td>\n",
       "      <td>1</td>\n",
       "      <td>1806829201915904256</td>\n",
       "      <td>jewelry.pendant</td>\n",
       "      <td>1</td>\n",
       "      <td>55</td>\n",
       "      <td>1515915625048493568</td>\n",
       "      <td>f</td>\n",
       "      <td>white</td>\n",
       "      <td>gold</td>\n",
       "      <td>sapphire</td>\n",
       "    </tr>\n",
       "    <tr>\n",
       "      <th>3</th>\n",
       "      <td>2018-12-02 17:44:02 UTC</td>\n",
       "      <td>1925626951238681511</td>\n",
       "      <td>1835566849434059453</td>\n",
       "      <td>1</td>\n",
       "      <td>1806829201915904256</td>\n",
       "      <td>jewelry.pendant</td>\n",
       "      <td>0</td>\n",
       "      <td>89</td>\n",
       "      <td>1515915625207630848</td>\n",
       "      <td>f</td>\n",
       "      <td>red</td>\n",
       "      <td>gold</td>\n",
       "      <td>diamond</td>\n",
       "    </tr>\n",
       "    <tr>\n",
       "      <th>4</th>\n",
       "      <td>2018-12-02 21:30:19 UTC</td>\n",
       "      <td>1925740842841014667</td>\n",
       "      <td>1873936840742928865</td>\n",
       "      <td>1</td>\n",
       "      <td>1806829201924292864</td>\n",
       "      <td>jewelry.necklace</td>\n",
       "      <td>0</td>\n",
       "      <td>418</td>\n",
       "      <td>1515915625175329280</td>\n",
       "      <td>NaN</td>\n",
       "      <td>red</td>\n",
       "      <td>gold</td>\n",
       "      <td>amethyst</td>\n",
       "    </tr>\n",
       "  </tbody>\n",
       "</table>\n",
       "</div>"
      ],
      "text/plain": [
       "                  Datetime              OrderID         Purchased_ID  \\\n",
       "0  2018-12-01 11:40:29 UTC  1924719191579951782  1842195256808833386   \n",
       "1  2018-12-01 17:38:31 UTC  1924899396621697920  1806829193678291446   \n",
       "2  2018-12-02 13:53:42 UTC  1925511016616034733  1842214461889315556   \n",
       "3  2018-12-02 17:44:02 UTC  1925626951238681511  1835566849434059453   \n",
       "4  2018-12-02 21:30:19 UTC  1925740842841014667  1873936840742928865   \n",
       "\n",
       "   Qty_of_SKU         Category_ID    Category_alias  Brand_ID  Price  \\\n",
       "0           1 1806829201890738432   jewelry.earring         0    562   \n",
       "1           1 1806829201848795392               NaN       NaN    212   \n",
       "2           1 1806829201915904256   jewelry.pendant         1     55   \n",
       "3           1 1806829201915904256   jewelry.pendant         0     89   \n",
       "4           1 1806829201924292864  jewelry.necklace         0    418   \n",
       "\n",
       "               UserID Product_gender   Color Metal  Gem_type  \n",
       "0 1515915625207851264            NaN     red  gold   diamond  \n",
       "1 1515915625071970048            NaN  yellow  gold       NaN  \n",
       "2 1515915625048493568              f   white  gold  sapphire  \n",
       "3 1515915625207630848              f     red  gold   diamond  \n",
       "4 1515915625175329280            NaN     red  gold  amethyst  "
      ]
     },
     "execution_count": 103,
     "metadata": {},
     "output_type": "execute_result"
    }
   ],
   "source": [
    "df.columns= ['Datetime','OrderID','Purchased_ID','Qty_of_SKU','Category_ID','Category_alias','Brand_ID',\n",
    "             'Price','UserID','Product_gender','Color','Metal','Gem_type']\n",
    "pd.set_option('display.float_format', '{:.0f}'.format)\n",
    "df.head()"
   ]
  },
  {
   "cell_type": "code",
   "execution_count": 105,
   "id": "bba6a55d-0a96-47df-aa6b-120ded5a0893",
   "metadata": {},
   "outputs": [],
   "source": [
    "df['Datetime'] = pd.to_datetime(df['Datetime'])"
   ]
  },
  {
   "cell_type": "code",
   "execution_count": 107,
   "id": "47964564-5054-477c-887e-3e23a5d0a876",
   "metadata": {},
   "outputs": [
    {
     "name": "stdout",
     "output_type": "stream",
     "text": [
      "<class 'pandas.core.frame.DataFrame'>\n",
      "RangeIndex: 95911 entries, 0 to 95910\n",
      "Data columns (total 13 columns):\n",
      " #   Column          Non-Null Count  Dtype              \n",
      "---  ------          --------------  -----              \n",
      " 0   Datetime        95911 non-null  datetime64[ns, UTC]\n",
      " 1   OrderID         95911 non-null  int64              \n",
      " 2   Purchased_ID    95911 non-null  int64              \n",
      " 3   Qty_of_SKU      95911 non-null  int64              \n",
      " 4   Category_ID     90559 non-null  float64            \n",
      " 5   Category_alias  85978 non-null  object             \n",
      " 6   Brand_ID        91126 non-null  float64            \n",
      " 7   Price           90559 non-null  float64            \n",
      " 8   UserID          90559 non-null  float64            \n",
      " 9   Product_gender  47743 non-null  object             \n",
      " 10  Color           88251 non-null  object             \n",
      " 11  Metal           90449 non-null  object             \n",
      " 12  Gem_type        61853 non-null  object             \n",
      "dtypes: datetime64[ns, UTC](1), float64(4), int64(3), object(5)\n",
      "memory usage: 9.5+ MB\n"
     ]
    }
   ],
   "source": [
    "df.info()"
   ]
  },
  {
   "cell_type": "code",
   "execution_count": 109,
   "id": "2c09b6d1-0317-4784-9085-67998d9d1ba2",
   "metadata": {},
   "outputs": [
    {
     "data": {
      "text/plain": [
       "Datetime              0\n",
       "OrderID               0\n",
       "Purchased_ID          0\n",
       "Qty_of_SKU            0\n",
       "Category_ID        5352\n",
       "Category_alias     9933\n",
       "Brand_ID           4785\n",
       "Price              5352\n",
       "UserID             5352\n",
       "Product_gender    48168\n",
       "Color              7660\n",
       "Metal              5462\n",
       "Gem_type          34058\n",
       "dtype: int64"
      ]
     },
     "execution_count": 109,
     "metadata": {},
     "output_type": "execute_result"
    }
   ],
   "source": [
    "df.isna().sum()"
   ]
  },
  {
   "cell_type": "code",
   "execution_count": 111,
   "id": "503a4395-99e3-4e49-89fe-921ab6a27c42",
   "metadata": {},
   "outputs": [
    {
     "data": {
      "text/plain": [
       "array(['diamond', nan, 'sapphire', 'amethyst', 'fianit', 'pearl',\n",
       "       'quartz', 'topaz', 'garnet', 'quartz_smoky', 'ruby', 'agate',\n",
       "       'mix', 'citrine', 'emerald', 'amber', 'chrysolite', 'chrysoprase',\n",
       "       'nanocrystal', 'turquoise', 'sitall', 'corundum_synthetic',\n",
       "       'coral', 'onyx', 'nacre', 'spinel', 'tourmaline',\n",
       "       'emerald_geothermal', 'garnet_synthetic', 'rhodolite',\n",
       "       'sapphire_geothermal'], dtype=object)"
      ]
     },
     "execution_count": 111,
     "metadata": {},
     "output_type": "execute_result"
    }
   ],
   "source": [
    "df['Gem_type'].unique()"
   ]
  },
  {
   "cell_type": "code",
   "execution_count": 113,
   "id": "315e2a85-54b5-441a-818d-195d060502ea",
   "metadata": {},
   "outputs": [
    {
     "data": {
      "text/plain": [
       "array([nan, 'f', 'm'], dtype=object)"
      ]
     },
     "execution_count": 113,
     "metadata": {},
     "output_type": "execute_result"
    }
   ],
   "source": [
    "df['Product_gender'].unique()"
   ]
  },
  {
   "cell_type": "code",
   "execution_count": null,
   "id": "1f632d2b-2528-49fc-8d39-3591e1032001",
   "metadata": {},
   "outputs": [],
   "source": [
    "df[(df['Color'] == 'red') & (df['Metal'] == 'gold')]"
   ]
  },
  {
   "cell_type": "code",
   "execution_count": null,
   "id": "d40e9dd0-0bda-4fab-8072-9bcfb2a93083",
   "metadata": {},
   "outputs": [],
   "source": [
    "df[df['Category_ID'] == 1806829201890738432]"
   ]
  },
  {
   "cell_type": "code",
   "execution_count": null,
   "id": "be378de6-6c7c-4128-8eab-43b1d53eda6d",
   "metadata": {},
   "outputs": [],
   "source": [
    "df = df[~df['Category_alias'].apply(lambda x: str(x).replace('.', '', 1).isdigit())]"
   ]
  },
  {
   "cell_type": "code",
   "execution_count": null,
   "id": "71b30940-ca71-4dde-87da-a1e9583e80cd",
   "metadata": {},
   "outputs": [],
   "source": [
    "df.info()"
   ]
  },
  {
   "cell_type": "code",
   "execution_count": null,
   "id": "057be0d9-c4b4-4c58-b6ff-62d9ce31d2aa",
   "metadata": {},
   "outputs": [],
   "source": [
    "df['Category_alias'].unique()"
   ]
  },
  {
   "cell_type": "code",
   "execution_count": null,
   "id": "b04aaf07-5ed5-4982-a48a-a807c413f3ad",
   "metadata": {},
   "outputs": [],
   "source": [
    "df.head()"
   ]
  },
  {
   "cell_type": "code",
   "execution_count": null,
   "id": "44bc2b89-cf43-4f6c-a531-3a0042b0445e",
   "metadata": {},
   "outputs": [],
   "source": [
    "df.loc[df['Category_alias'] == 'electronics.clocks', 'Brand_ID'] = 6"
   ]
  },
  {
   "cell_type": "code",
   "execution_count": null,
   "id": "5cb6df8a-5b88-4ee4-914c-803fed41c4c0",
   "metadata": {},
   "outputs": [],
   "source": [
    "df = df.dropna()\n",
    "df.head()"
   ]
  },
  {
   "cell_type": "code",
   "execution_count": null,
   "id": "103205f8-60c8-4893-ac12-6549aab22b34",
   "metadata": {},
   "outputs": [],
   "source": [
    "df.info()"
   ]
  },
  {
   "cell_type": "code",
   "execution_count": null,
   "id": "0a010e2f-f3f0-4fad-ac42-9a9259c8238e",
   "metadata": {},
   "outputs": [],
   "source": []
  },
  {
   "cell_type": "code",
   "execution_count": null,
   "id": "8293e4a7-8afa-4db4-827e-412aa9767e4f",
   "metadata": {},
   "outputs": [],
   "source": [
    "columns_to_check = ['Category_ID', Category_alias"
   ]
  }
 ],
 "metadata": {
  "kernelspec": {
   "display_name": "Python 3 (ipykernel)",
   "language": "python",
   "name": "python3"
  },
  "language_info": {
   "codemirror_mode": {
    "name": "ipython",
    "version": 3
   },
   "file_extension": ".py",
   "mimetype": "text/x-python",
   "name": "python",
   "nbconvert_exporter": "python",
   "pygments_lexer": "ipython3",
   "version": "3.12.4"
  }
 },
 "nbformat": 4,
 "nbformat_minor": 5
}
