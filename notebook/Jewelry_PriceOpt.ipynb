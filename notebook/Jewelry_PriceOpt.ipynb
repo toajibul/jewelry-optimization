{
 "cells": [
  {
   "cell_type": "code",
   "execution_count": null,
   "id": "f89b6bb0-12c7-4db3-a3ab-94db8daf2a60",
   "metadata": {},
   "outputs": [],
   "source": [
    "#!pip install mlflow"
   ]
  },
  {
   "cell_type": "code",
   "execution_count": 3,
   "id": "5a927158-a8b7-4182-a5ad-212c3cd897b8",
   "metadata": {},
   "outputs": [
    {
     "name": "stdout",
     "output_type": "stream",
     "text": [
      "\u001b[33mWARNING: Package(s) not found: mlflow\u001b[0m\u001b[33m\n",
      "\u001b[0mNote: you may need to restart the kernel to use updated packages.\n"
     ]
    }
   ],
   "source": [
    "pip show mlflow"
   ]
  },
  {
   "cell_type": "code",
   "execution_count": 5,
   "id": "c3ceb6d3-b61d-43a3-ae6e-05b120092892",
   "metadata": {},
   "outputs": [
    {
     "ename": "ModuleNotFoundError",
     "evalue": "No module named 'mlflow'",
     "output_type": "error",
     "traceback": [
      "\u001b[0;31m---------------------------------------------------------------------------\u001b[0m",
      "\u001b[0;31mModuleNotFoundError\u001b[0m                       Traceback (most recent call last)",
      "Cell \u001b[0;32mIn[5], line 6\u001b[0m\n\u001b[1;32m      4\u001b[0m \u001b[38;5;28;01mimport\u001b[39;00m \u001b[38;5;21;01mseaborn\u001b[39;00m \u001b[38;5;28;01mas\u001b[39;00m \u001b[38;5;21;01msns\u001b[39;00m \u001b[38;5;66;03m#data visualization\u001b[39;00m\n\u001b[1;32m      5\u001b[0m \u001b[38;5;28;01mimport\u001b[39;00m \u001b[38;5;21;01mmissingno\u001b[39;00m \u001b[38;5;28;01mas\u001b[39;00m \u001b[38;5;21;01mmsno\u001b[39;00m\n\u001b[0;32m----> 6\u001b[0m \u001b[38;5;28;01mimport\u001b[39;00m \u001b[38;5;21;01mmlflow\u001b[39;00m\n\u001b[1;32m      7\u001b[0m \u001b[38;5;28;01mimport\u001b[39;00m \u001b[38;5;21;01mmlflow\u001b[39;00m\u001b[38;5;21;01m.\u001b[39;00m\u001b[38;5;21;01msklearn\u001b[39;00m\n\u001b[1;32m      9\u001b[0m \u001b[38;5;66;03m# Data Pre Processing\u001b[39;00m\n",
      "\u001b[0;31mModuleNotFoundError\u001b[0m: No module named 'mlflow'"
     ]
    }
   ],
   "source": [
    "import pandas as pd\n",
    "import numpy as np\n",
    "import matplotlib.pyplot as plt #data visualization\n",
    "import seaborn as sns #data visualization\n",
    "import missingno as msno\n",
    "import mlflow\n",
    "import mlflow.sklearn\n",
    "\n",
    "# Data Pre Processing\n",
    "from sklearn.model_selection import train_test_split\n",
    "from sklearn.preprocessing import MinMaxScaler\n",
    "from sklearn.preprocessing import LabelEncoder\n",
    "\n",
    "# Regressor Libraries\n",
    "from sklearn.linear_model import LinearRegression\n",
    "from sklearn.ensemble import RandomForestRegressor\n",
    "from sklearn.tree import DecisionTreeRegressor\n",
    "from sklearn.metrics import mean_squared_error, mean_absolute_error, r2_score\n",
    "\n",
    "\n",
    "#Evaluation metrics\n",
    "from sklearn.metrics import accuracy_score, precision_score, recall_score, f1_score, roc_auc_score\n",
    "from sklearn.metrics import confusion_matrix\n",
    "\n",
    "import warnings\n",
    "warnings.filterwarnings(\"ignore\")"
   ]
  },
  {
   "cell_type": "code",
   "execution_count": null,
   "id": "cb20defc-e27d-4917-9c93-d3f9922461ba",
   "metadata": {},
   "outputs": [],
   "source": [
    "# read in data with specifying that there is no header columns\n",
    "\n",
    "df=pd.read_csv(\"../data/Jewelry_Dataset.csv\", header=None)\n",
    "df.head()"
   ]
  },
  {
   "cell_type": "code",
   "execution_count": null,
   "id": "64a53ba9-89ac-484c-b140-058c6667b8f4",
   "metadata": {},
   "outputs": [],
   "source": [
    "# created my columns and removed scientific notation\n",
    "df.columns= ['Datetime','OrderID','Purchased_ID','Qty_of_SKU','Category_ID','Category_alias','Brand_ID',\n",
    "             'Price','UserID','Product_gender','Color','Metal','Gem_type']\n",
    "pd.set_option('display.float_format', '{:.0f}'.format)\n",
    "df.head(50)"
   ]
  },
  {
   "cell_type": "code",
   "execution_count": null,
   "id": "bba6a55d-0a96-47df-aa6b-120ded5a0893",
   "metadata": {},
   "outputs": [],
   "source": [
    "# format datetime to date function\n",
    "df['Datetime'] = pd.to_datetime(df['Datetime'])"
   ]
  },
  {
   "cell_type": "code",
   "execution_count": null,
   "id": "47964564-5054-477c-887e-3e23a5d0a876",
   "metadata": {},
   "outputs": [],
   "source": [
    "df.info()"
   ]
  },
  {
   "cell_type": "code",
   "execution_count": null,
   "id": "2c09b6d1-0317-4784-9085-67998d9d1ba2",
   "metadata": {},
   "outputs": [],
   "source": [
    "# sum up missing values\n",
    "df.isna().sum()"
   ]
  },
  {
   "cell_type": "code",
   "execution_count": null,
   "id": "292e1fa0-fb1a-4511-bf38-6c36828c4583",
   "metadata": {},
   "outputs": [],
   "source": [
    "# explore the most common values in each column of your DataFrame, including missing values (NaN)\n",
    "for col in df.columns:\n",
    "    print(f\"\\nTop values in column: {col}\")\n",
    "    print(df[col].value_counts(dropna=False).head(10))"
   ]
  },
  {
   "cell_type": "code",
   "execution_count": null,
   "id": "8e506064-f37f-48e8-9c3a-6172b5325317",
   "metadata": {},
   "outputs": [],
   "source": [
    "# removed any numerical values in this column and then reset index\n",
    "df = df[~df['Category_alias'].apply(lambda x: str(x).replace('.', '', 1).isdigit())]\n",
    "df.reset_index(drop=True, inplace=True)"
   ]
  },
  {
   "cell_type": "code",
   "execution_count": null,
   "id": "c2643c9c-c40d-4bbc-be97-9e290abb8cb3",
   "metadata": {},
   "outputs": [],
   "source": [
    "df['Category_alias'] = df['Category_alias'].fillna(\"unknown\")\n",
    "df['Purchased_ID'] = df['Purchased_ID'].fillna(\"unknown\")\n",
    "df['Gem_type'] = df['Gem_type'].fillna(\"unknown\")\n",
    "df['Brand_ID'] = df['Brand_ID'].fillna(\"unknown\")\n",
    "df['Price'] = df['Price'].fillna(\"unknown\")\n",
    "df['Metal'] = df['Metal'].fillna(\"unknown\")\n",
    "df['Color'] = df['Color'].fillna(\"unknown\")\n",
    "df['Color'] = df['Color'].replace('unknown-color', 'unknown')\n",
    "df['Product_gender'] = df['Product_gender'].fillna(\"unknown\")"
   ]
  },
  {
   "cell_type": "code",
   "execution_count": null,
   "id": "8b06dff8-6d23-4fbd-bc9e-e989b5a14fe5",
   "metadata": {},
   "outputs": [],
   "source": [
    "df.info()"
   ]
  },
  {
   "cell_type": "code",
   "execution_count": null,
   "id": "53ead2c5-eb2c-422b-b426-eb24b839592c",
   "metadata": {},
   "outputs": [],
   "source": [
    "df.isna().sum()"
   ]
  },
  {
   "cell_type": "code",
   "execution_count": null,
   "id": "503a4395-99e3-4e49-89fe-921ab6a27c42",
   "metadata": {},
   "outputs": [],
   "source": [
    "df.drop(columns=['Datetime', 'Qty_of_SKU','Category_ID','UserID','OrderID','Purchased_ID'], inplace=True)"
   ]
  },
  {
   "cell_type": "code",
   "execution_count": null,
   "id": "f835d915-ca9d-45dc-80fd-bb271ab415d4",
   "metadata": {},
   "outputs": [],
   "source": [
    "df.info()"
   ]
  },
  {
   "cell_type": "code",
   "execution_count": null,
   "id": "315e2a85-54b5-441a-818d-195d060502ea",
   "metadata": {},
   "outputs": [],
   "source": [
    "df.describe()"
   ]
  },
  {
   "cell_type": "code",
   "execution_count": null,
   "id": "1f632d2b-2528-49fc-8d39-3591e1032001",
   "metadata": {},
   "outputs": [],
   "source": [
    "df.describe(include=[\"object\",\"bool\"])"
   ]
  },
  {
   "cell_type": "code",
   "execution_count": null,
   "id": "806e9122-3cf8-45ef-a6fb-22dc7b581b45",
   "metadata": {},
   "outputs": [],
   "source": [
    "msno.bar(df, color='sandybrown')"
   ]
  },
  {
   "cell_type": "code",
   "execution_count": null,
   "id": "d40e9dd0-0bda-4fab-8072-9bcfb2a93083",
   "metadata": {},
   "outputs": [],
   "source": [
    "plt.figure(figsize =(10,3))\n",
    "sns.heatmap(df.isnull(), cbar=True, cmap=\"Blues_r\")"
   ]
  },
  {
   "cell_type": "code",
   "execution_count": null,
   "id": "7ce96a14-12ed-43e5-94af-5b9013a28e6b",
   "metadata": {},
   "outputs": [],
   "source": [
    "\n",
    "num_col = df.select_dtypes(include=\"number\").columns\n",
    "plt.figure(figsize=(15, 5))\n",
    "for idx, col in enumerate(num_col, 1):\n",
    "    plt.subplot(1,2,idx)\n",
    "    sns.histplot(df[col], bins=2, color=\"teal\")\n",
    "    # ax[idx].set_title(f\"Histplot for {col}\")\n",
    "    plt.title(f\"Histplot for {col}\")\n",
    "plt.tight_layout()\n",
    "plt.show()"
   ]
  },
  {
   "cell_type": "code",
   "execution_count": null,
   "id": "be378de6-6c7c-4128-8eab-43b1d53eda6d",
   "metadata": {},
   "outputs": [],
   "source": [
    "num_col = df.select_dtypes(include=\"number\").columns\n",
    "plt.figure(figsize=(15, 5))\n",
    "for idx, col in enumerate(num_col, 1):\n",
    "    plt.subplot(1,2,idx)\n",
    "    sns.boxplot(df[col], color=\"teal\")\n",
    "    # ax[idx].set_title(f\"Histplot for {col}\")\n",
    "    plt.title(f\"Boxplot for {col}\")\n",
    "plt.tight_layout()\n",
    "plt.show()"
   ]
  },
  {
   "cell_type": "code",
   "execution_count": null,
   "id": "71b30940-ca71-4dde-87da-a1e9583e80cd",
   "metadata": {},
   "outputs": [],
   "source": [
    "affected_column = [ \"Price\"]\n",
    "q1 = df[affected_column].quantile(0.25)\n",
    "q3 = df[affected_column].quantile(0.75)\n"
   ]
  },
  {
   "cell_type": "code",
   "execution_count": null,
   "id": "057be0d9-c4b4-4c58-b6ff-62d9ce31d2aa",
   "metadata": {},
   "outputs": [],
   "source": [
    "iqr = q3 - q1\n",
    "\n",
    "iqr"
   ]
  },
  {
   "cell_type": "code",
   "execution_count": null,
   "id": "b04aaf07-5ed5-4982-a48a-a807c413f3ad",
   "metadata": {},
   "outputs": [],
   "source": [
    "lower_bound = q1 - (1.5 * iqr)\n",
    "upper_bound = q3 + (1.5 * iqr)\n"
   ]
  },
  {
   "cell_type": "code",
   "execution_count": null,
   "id": "44bc2b89-cf43-4f6c-a531-3a0042b0445e",
   "metadata": {},
   "outputs": [],
   "source": [
    "df[affected_column] = df[affected_column].clip(lower=lower_bound, upper=upper_bound, axis=1)"
   ]
  },
  {
   "cell_type": "code",
   "execution_count": null,
   "id": "103205f8-60c8-4893-ac12-6549aab22b34",
   "metadata": {},
   "outputs": [],
   "source": [
    "fig, ax = plt.subplots(figsize=(5, 5))\n",
    "sns.boxplot(y=df['Price'], ax=ax, color='teal')\n",
    "ax.set_title(\"Boxplot for Price\")\n",
    "plt.show()"
   ]
  },
  {
   "cell_type": "markdown",
   "id": "bf967f7b-562b-4546-937e-e782d54b94d8",
   "metadata": {},
   "source": [
    "# Univariate Analysis"
   ]
  },
  {
   "cell_type": "code",
   "execution_count": null,
   "id": "0076e4fa-f1cc-4749-b075-354ea91ad07a",
   "metadata": {},
   "outputs": [],
   "source": [
    "category_counts = df['Category_alias'].value_counts()\n",
    "\n",
    "category_counts.sort_values().plot(\n",
    "    kind='barh',\n",
    "    figsize=(10, 6),\n",
    "    color='gold',\n",
    "    edgecolor='black'\n",
    ")\n",
    "\n",
    "plt.xlabel('Count')\n",
    "plt.ylabel('Category Alias')\n",
    "plt.title('Top Category Alias Distribution', fontsize=14, fontweight='bold')\n",
    "plt.tight_layout()\n",
    "plt.show()"
   ]
  },
  {
   "cell_type": "code",
   "execution_count": null,
   "id": "b47a7944-2fa1-4332-a4c1-28ff5fb30550",
   "metadata": {},
   "outputs": [],
   "source": [
    "# Count the values in the 'Brand_ID' column\n",
    "Brand_counts = df['Brand_ID'].value_counts()\n",
    "\n",
    "Brand_counts.sort_values().plot(\n",
    "    kind='barh',\n",
    "    figsize=(10, 6),\n",
    "    color='maroon',\n",
    "    edgecolor='black'\n",
    ")\n",
    "\n",
    "plt.xlabel('Count')\n",
    "plt.ylabel('Brand Alias')\n",
    "plt.title('Top Brand Alias Distribution', fontsize=14, fontweight='bold')\n",
    "plt.tight_layout()\n",
    "plt.show()"
   ]
  },
  {
   "cell_type": "code",
   "execution_count": null,
   "id": "0a010e2f-f3f0-4fad-ac42-9a9259c8238e",
   "metadata": {},
   "outputs": [],
   "source": [
    "#Data Visualization\n",
    "def price_bracket(Price):\n",
    "    if Price <=100:\n",
    "        return \"Low Price(<=100)\"\n",
    "    elif Price <=250:\n",
    "        return \"Medium Price(<=250)\"\n",
    "    elif Price <=500:\n",
    "        return \"High Price(<=500)\"\n",
    "    else:\n",
    "        return \"Expensive (>500)\"\n",
    "df['price_bracket'] =df['Price'].apply(price_bracket)\n",
    "plt.figure(figsize =(10,5))\n",
    "sns.countplot(x='price_bracket', data=df)\n",
    "plt.xlabel('Price Range')\n",
    "plt.ylabel('Count of Price Group')\n",
    "plt.title('Pricing')"
   ]
  },
  {
   "cell_type": "code",
   "execution_count": null,
   "id": "d54e257b-76e4-445e-a196-2c849334f158",
   "metadata": {},
   "outputs": [],
   "source": [
    "Gem_counts = df['Gem_type'].value_counts()\n",
    "\n",
    "Gem_counts.sort_values().plot(\n",
    "    kind='barh',\n",
    "    figsize=(10, 6),\n",
    "    color='purple',\n",
    "    edgecolor='black'\n",
    ")\n",
    "\n",
    "plt.xlabel('Count')\n",
    "plt.ylabel('Gem Type Alias')\n",
    "plt.title('Gem Type Distribution', fontsize=14, fontweight='bold')\n",
    "plt.tight_layout()\n",
    "plt.show()"
   ]
  },
  {
   "cell_type": "markdown",
   "id": "39753353-7485-4829-ae79-e6c29b556110",
   "metadata": {},
   "source": [
    "# Bivariate Analysis"
   ]
  },
  {
   "cell_type": "code",
   "execution_count": null,
   "id": "6f085fcf-99aa-4b37-b7ef-518d17d1d307",
   "metadata": {},
   "outputs": [],
   "source": [
    "plt.figure(figsize =(10,5))\n",
    "sns.countplot(x='price_bracket', data=df, hue='Metal')\n",
    "plt.xlabel('Price Group')\n",
    "plt.ylabel('Count of Metals')\n",
    "plt.title('Price of Metals')"
   ]
  },
  {
   "cell_type": "code",
   "execution_count": null,
   "id": "ee00615c-0efd-42b3-a64e-aedb6f8078cb",
   "metadata": {},
   "outputs": [],
   "source": [
    "# Get unique colors and include 'unknown'\n",
    "unique_colors = df['Color'].dropna().unique()\n",
    "\n",
    "# Create the base palette from actual color names\n",
    "color_palette = {color: color for color in unique_colors if color.lower() != 'unknown'}\n",
    "\n",
    "# Add 'unknown' with a custom color\n",
    "color_palette['unknown'] = 'gray'\n",
    "\n",
    "plt.figure(figsize=(12, 6))\n",
    "sns.countplot(\n",
    "    x='price_bracket',\n",
    "    data=df,\n",
    "    hue='Color',\n",
    "    palette=color_palette,\n",
    "    edgecolor='black'\n",
    ")\n",
    "\n",
    "plt.xlabel('Price Group', fontsize=12)\n",
    "plt.ylabel('Count of Colors', fontsize=12)\n",
    "plt.title('Color Distribution by Price Bracket', fontsize=14, fontweight='bold')\n",
    "plt.xticks(rotation=45)\n",
    "plt.legend(title='Color', title_fontsize=11, fontsize=10, loc='upper right')\n",
    "plt.tight_layout()\n",
    "plt.show()\n"
   ]
  },
  {
   "cell_type": "code",
   "execution_count": null,
   "id": "551c7909-6273-4ba3-8c81-e38d2c941a15",
   "metadata": {},
   "outputs": [],
   "source": [
    "plt.figure(figsize =(10,5))\n",
    "sns.countplot(x='price_bracket', data=df, hue='Product_gender')\n",
    "plt.xlabel('Price Group')\n",
    "plt.ylabel('Count of Product Gender')\n",
    "plt.title('Price Per Gender')"
   ]
  },
  {
   "cell_type": "code",
   "execution_count": null,
   "id": "4a0c88c5-bd12-42c3-93b2-0813c1593179",
   "metadata": {},
   "outputs": [],
   "source": [
    "# Step 1: Get top 11 gem_types by frequency\n",
    "top_gems = df['Gem_type'].value_counts().nlargest(11).index\n",
    "\n",
    "df['Gem_type_grouped'] = df['Gem_type'].apply(lambda x: x if x in top_gems else 'Other')\n",
    "\n",
    "# Step 2: Filter DataFrame for top 11 gem types\n",
    "filtered_df = df[df['Gem_type'].isin(top_gems)]\n",
    "\n",
    "# Step 3: Create a unique color for each gem type\n",
    "unique_colors = sns.color_palette(\"hls\", len(top_gems))\n",
    "color_dict = dict(zip(top_gems, unique_colors))\n",
    "\n",
    "# Step 4: Plot the bar chart\n",
    "plt.figure(figsize=(10, 6))\n",
    "sns.countplot(data=filtered_df, x='price_bracket', hue='Gem_type', palette=color_dict)\n",
    "\n",
    "plt.title('Top 11 Gem Types by Pricing Range')\n",
    "plt.xlabel('Pricing Range')\n",
    "plt.ylabel('Count')\n",
    "plt.legend(title='Gem Type')\n",
    "plt.tight_layout()\n",
    "plt.show()"
   ]
  },
  {
   "cell_type": "code",
   "execution_count": null,
   "id": "9c67e78d-77a9-478e-bb5f-d5aa21239ffe",
   "metadata": {},
   "outputs": [],
   "source": [
    "df['Brand_ID'] = df['Brand_ID'].astype(str)"
   ]
  },
  {
   "cell_type": "code",
   "execution_count": null,
   "id": "81274388-10c5-4a1b-99a5-ae5b41d95573",
   "metadata": {},
   "outputs": [],
   "source": [
    "df.head()"
   ]
  },
  {
   "cell_type": "code",
   "execution_count": null,
   "id": "3a285af3-72ff-48b2-bcb1-4ec9557a6678",
   "metadata": {},
   "outputs": [],
   "source": [
    "df.duplicated().sum()"
   ]
  },
  {
   "cell_type": "code",
   "execution_count": null,
   "id": "12fc9990-accf-41fd-a944-5487124253f0",
   "metadata": {},
   "outputs": [],
   "source": [
    "# Label encoding for binary categories\n",
    "Le = LabelEncoder()\n",
    "\n",
    "df['Product_gender'] = Le.fit_transform(df['Product_gender'])\n",
    "df['Category_alias'] = Le.fit_transform(df['Category_alias'])\n",
    "df['Metal'] = Le.fit_transform(df['Metal'])\n",
    "df['Color'] = Le.fit_transform(df['Color'])\n",
    "df['Brand_ID'] = Le.fit_transform(df['Brand_ID'])\n",
    "df['Gem_type_grouped'] = Le.fit_transform(df['Gem_type_grouped'])\n",
    "\n",
    "label=df[['Price']]\n",
    "\n",
    "\n",
    "df.drop(['Gem_type','price_bracket','Price'], axis=1, inplace=True)"
   ]
  },
  {
   "cell_type": "code",
   "execution_count": null,
   "id": "74b9b556-a183-4ef4-a41d-836b2ddc1c9d",
   "metadata": {},
   "outputs": [],
   "source": [
    "df.head()"
   ]
  },
  {
   "cell_type": "code",
   "execution_count": null,
   "id": "7828518a-b953-4cbd-a215-25d528f7e7f0",
   "metadata": {},
   "outputs": [],
   "source": [
    "label.head()"
   ]
  },
  {
   "cell_type": "code",
   "execution_count": null,
   "id": "76f2bc32-c6e1-432c-b1c6-8d43f19a7779",
   "metadata": {},
   "outputs": [],
   "source": [
    "df.dtypes"
   ]
  },
  {
   "cell_type": "markdown",
   "id": "c815123e-f0bf-4cbf-80ef-efd54e0f5689",
   "metadata": {},
   "source": [
    "# Machine Learning"
   ]
  },
  {
   "cell_type": "code",
   "execution_count": null,
   "id": "b200a3f7-b1d6-44a3-b4e9-02244798885f",
   "metadata": {},
   "outputs": [],
   "source": [
    "# Split the dataset into training and testing sets - X = Questions, y = Answers\n",
    "X_train, X_test, y_train, y_test = train_test_split(df, label, test_size=0.2, random_state=42)"
   ]
  },
  {
   "cell_type": "code",
   "execution_count": null,
   "id": "64f365e3-35e2-42a3-90e1-aad424418260",
   "metadata": {},
   "outputs": [],
   "source": [
    "X_train.head(3)"
   ]
  },
  {
   "cell_type": "code",
   "execution_count": null,
   "id": "d68eb702-139f-4fcf-9ff1-1b7d9d9671b9",
   "metadata": {},
   "outputs": [],
   "source": [
    "y_train.head(3)"
   ]
  },
  {
   "cell_type": "code",
   "execution_count": null,
   "id": "e8e02036-029f-4e65-bc9d-fc50760ca360",
   "metadata": {},
   "outputs": [],
   "source": [
    "X_test.head(3)"
   ]
  },
  {
   "cell_type": "code",
   "execution_count": null,
   "id": "5121e54b-1adb-44cb-97f8-3ba714cefa26",
   "metadata": {},
   "outputs": [],
   "source": [
    "y_test.head(3)"
   ]
  },
  {
   "cell_type": "code",
   "execution_count": null,
   "id": "5fe12166-bed9-446a-9c32-5e2eece9aa4a",
   "metadata": {},
   "outputs": [],
   "source": [
    "# Define regressors and their names\n",
    "regressors = [\n",
    "    (LinearRegression(), \"Linear Regression\"),\n",
    "    (RandomForestRegressor(), \"Random Forest\"),\n",
    "    (DecisionTreeRegressor(), \"Decision Tree\")\n",
    "]"
   ]
  },
  {
   "cell_type": "code",
   "execution_count": null,
   "id": "375b9e49-38a6-4ac4-ae29-491adba9c662",
   "metadata": {},
   "outputs": [],
   "source": [
    "mse_list = {}\n",
    "mae_list = {}\n",
    "r2_list = {}\n",
    "\n",
    "for model, name in regressors:\n",
    "    model.fit(X_train, y_train)\n",
    "    pred = model.predict(X_test)\n",
    "\n",
    "    mse = mean_squared_error(y_test, pred)\n",
    "    mae = mean_absolute_error(y_test, pred)\n",
    "    r2 = r2_score(y_test, pred)\n",
    "\n",
    "    mse_list[name] = round(mse, 2)\n",
    "    mae_list[name] = round(mae, 2)\n",
    "    r2_list[name] = round(r2, 4)\n",
    "\n",
    "print(\"Mean Squared Error (MSE):\", mse_list)\n",
    "print(\"Mean Absolute Error (MAE):\", mae_list)\n",
    "print(\"R^2 Score:\", r2_list)\n"
   ]
  },
  {
   "cell_type": "code",
   "execution_count": null,
   "id": "933955ed-0be1-4876-aaf5-3067a0b97987",
   "metadata": {},
   "outputs": [],
   "source": []
  }
 ],
 "metadata": {
  "kernelspec": {
   "display_name": "Python 3 (ipykernel)",
   "language": "python",
   "name": "python3"
  },
  "language_info": {
   "codemirror_mode": {
    "name": "ipython",
    "version": 3
   },
   "file_extension": ".py",
   "mimetype": "text/x-python",
   "name": "python",
   "nbconvert_exporter": "python",
   "pygments_lexer": "ipython3",
   "version": "3.12.4"
  }
 },
 "nbformat": 4,
 "nbformat_minor": 5
}
